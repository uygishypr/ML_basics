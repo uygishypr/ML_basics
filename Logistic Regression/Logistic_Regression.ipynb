{
 "cells": [
  {
   "cell_type": "code",
   "execution_count": 1,
   "id": "783f0c58-41c3-42f7-8ca5-633d42ef4fdc",
   "metadata": {},
   "outputs": [],
   "source": [
    "import numpy as np\n",
    "import matplotlib.pyplot as plt\n"
   ]
  },
  {
   "cell_type": "code",
   "execution_count": 2,
   "id": "dc70d257-70a7-4cb7-be41-e5a6d3d08f2d",
   "metadata": {},
   "outputs": [],
   "source": [
    "X = np.loadtxt('logistic_data/logistic_x.txt')\n",
    "y = np.loadtxt('logistic_data/logistic_y.txt')"
   ]
  },
  {
   "cell_type": "code",
   "execution_count": 3,
   "id": "ffc3bd7f",
   "metadata": {},
   "outputs": [
    {
     "data": {
      "text/plain": [
       "array([0., 0., 0., 0., 0., 0., 0., 0., 0., 0., 0., 0., 0., 0., 0., 0., 0.,\n",
       "       0., 0., 0., 0., 0., 0., 0., 0., 0., 0., 0., 0., 0., 0., 0., 0., 0.,\n",
       "       0., 0., 0., 0., 0., 0., 0., 0., 0., 0., 0., 0., 0., 0., 0., 1., 1.,\n",
       "       1., 1., 1., 1., 1., 1., 1., 1., 1., 1., 1., 1., 1., 1., 1., 1., 1.,\n",
       "       1., 1., 1., 1., 1., 1., 1., 1., 1., 1., 1., 1., 1., 1., 1., 1., 1.,\n",
       "       1., 1., 1., 1., 1., 1., 1., 1., 1., 1., 1., 1., 1., 1.])"
      ]
     },
     "execution_count": 3,
     "metadata": {},
     "output_type": "execute_result"
    }
   ],
   "source": [
    "## Convert -1's to 0's as it's more convenient for the cross entropy cost function\n",
    "y = np.where(y == -1, 0, y)\n",
    "y"
   ]
  },
  {
   "cell_type": "code",
   "execution_count": 4,
   "id": "e0b7bb6b-89f0-41f8-bfb9-dfbde63b2296",
   "metadata": {},
   "outputs": [
    {
     "data": {
      "text/plain": [
       "array([0., 0., 0., 0., 0., 0., 0., 0., 0., 0., 0., 0., 0., 0., 0., 0., 0.,\n",
       "       0., 0., 0., 0., 0., 0., 0., 0., 0., 0., 0., 0., 0., 0., 0., 0., 0.,\n",
       "       0., 0., 0., 0., 0., 0., 0., 0., 0., 0., 0., 0., 0., 0., 0., 1., 1.,\n",
       "       1., 1., 1., 1., 1., 1., 1., 1., 1., 1., 1., 1., 1., 1., 1., 1., 1.,\n",
       "       1., 1., 1., 1., 1., 1., 1., 1., 1., 1., 1., 1., 1., 1., 1., 1., 1.,\n",
       "       1., 1., 1., 1., 1., 1., 1., 1., 1., 1., 1., 1., 1., 1.])"
      ]
     },
     "execution_count": 4,
     "metadata": {},
     "output_type": "execute_result"
    }
   ],
   "source": [
    "y.shape\n",
    "y"
   ]
  },
  {
   "cell_type": "markdown",
   "id": "e597e547-a5f2-4b1e-8a99-0ae142431a42",
   "metadata": {},
   "source": [
    "### Logistic Regression Loss Function\n",
    "\n",
    "$$J(\\theta) = \\frac{1}{1 + e^{-y(wx + b)}}$$\n",
    "\n",
    "Parameter set $\\theta$ is composed of w and b.\n"
   ]
  },
  {
   "cell_type": "code",
   "execution_count": 5,
   "id": "b4828deb-780c-4556-8705-2912b163e4fd",
   "metadata": {},
   "outputs": [
    {
     "data": {
      "text/plain": [
       "(2,)"
      ]
     },
     "execution_count": 5,
     "metadata": {},
     "output_type": "execute_result"
    }
   ],
   "source": [
    "# Declaring the parameters as zero vectors with appropriate sizes\n",
    "weights = np.zeros(2)\n",
    "bias = 0\n",
    "\n",
    "def sigmoid(z):\n",
    "  return 1.0 / (1 + np.exp(-z))\n",
    "\n",
    "\n",
    "# Use cross entropy loss function\n",
    "def cost(predictions, labels):\n",
    "\n",
    "  #Error when label = 1\n",
    "  class1_cost = labels*np.log(predictions)\n",
    "  #Error when label= 0\n",
    "  class2_cost = (1-labels)*np.log(1-predictions)\n",
    "\n",
    "  return np.mean(class1_cost - class2_cost)\n",
    "\n",
    "\n",
    "\n",
    "def update(X,y,prediction):\n",
    "\n",
    "  dw = (1/99)*np.dot(X.T, (prediction - y))\n",
    "  db = (1/99)*np.sum((prediction - y)) \n",
    "  \n",
    "  return dw, db\n",
    "\n",
    "weights.shape"
   ]
  },
  {
   "cell_type": "code",
   "execution_count": 9,
   "id": "aebe20fd-f63e-49be-9bb9-dc64faaf0b78",
   "metadata": {},
   "outputs": [
    {
     "data": {
      "image/png": "[encoded data removed]",
      "text/plain": [
       "<Figure size 432x288 with 1 Axes>"
      ]
     },
     "metadata": {
      "needs_background": "light"
     },
     "output_type": "display_data"
    },
    {
     "name": "stdout",
     "output_type": "stream",
     "text": [
      "Weights: [0.6921871  1.19448306]\n",
      "Bias: -2.243681135462737\n",
      "Accuracy: 0.8787878787878788\n"
     ]
    }
   ],
   "source": [
    "\n",
    "def gd_optimizer(max_iter, step, weights, bias, X, y):\n",
    "    \n",
    "    loss_array = []\n",
    "\n",
    "    for i in range(max_iter):\n",
    "        # Make prediction\n",
    "        prediction = sigmoid(np.dot(weights,X.T) + bias)\n",
    "        dw = (1/99) * np.dot(X.T, (prediction - y))\n",
    "        db = (1/99) * np.sum((prediction - y))  \n",
    "        weights = weights - step * dw\n",
    "        bias = bias - step * db\n",
    "        loss = cost(prediction, y)\n",
    "        loss_array.append(loss)\n",
    "\n",
    "    return weights, bias, loss_array    \n",
    "\n",
    "max_iter = 2000\n",
    "updated_weights, updated_bias, loss_array = gd_optimizer(max_iter,0.1,weights,bias, X, y)\n",
    "\n",
    "## Perform the final prediction\n",
    "predictions = sigmoid(np.dot(updated_weights,X.T) + updated_bias)\n",
    "pred_class = [1 if i > 0.5 else 0 for i in predictions]\n",
    "accuracy = np.sum(y == pred_class) / len(y)\n",
    "epochs = np.linspace(0,max_iter,max_iter)\n",
    "plt.plot(epochs,loss_array)\n",
    "plt.show()\n",
    "accuracy\n",
    "print(\"Weights: {weights}\".format(weights = updated_weights))\n",
    "print(\"Bias: {bias}\".format(bias = updated_bias))\n",
    "print(\"Accuracy: {accuracy}\".format(accuracy = accuracy))\n",
    "\n"
   ]
  },
  {
   "cell_type": "markdown",
   "id": "f65f087a",
   "metadata": {},
   "source": [
    "## Decision Boundary Equation"
   ]
  },
  {
   "cell_type": "code",
   "execution_count": 27,
   "id": "88ccdbb8",
   "metadata": {},
   "outputs": [
    {
     "data": {
      "text/plain": [
       "0.571"
      ]
     },
     "execution_count": 27,
     "metadata": {},
     "output_type": "execute_result"
    }
   ],
   "source": [
    "x0 = X[:,0]\n",
    "x1 = X[:,1]\n",
    "w1 = updated_weights[0]\n",
    "w2 = updated_weights[1]\n",
    "b = updated_bias\n",
    "\n",
    "db = (-w1/w2) * x0 - (b/w2)\n",
    "\n"
   ]
  },
  {
   "cell_type": "code",
   "execution_count": 30,
   "id": "7f1f5e4b",
   "metadata": {},
   "outputs": [
    {
     "data": {
      "image/png": "[encoded data removed]",
      "text/plain": [
       "<Figure size 432x288 with 1 Axes>"
      ]
     },
     "metadata": {
      "needs_background": "light"
     },
     "output_type": "display_data"
    }
   ],
   "source": [
    "z = np.linspace(0,100,99)\n",
    "plt.figure()\n",
    "x0_points = plt.scatter(z,x0,c=\"red\")\n",
    "x1_points = plt.scatter(z,x1,c=\"green\")\n",
    "plt.title(\"X0 and X1\")\n",
    "plt.legend((x0_points,x1_points),(\"X0\",\"X1\"))\n",
    "plt.show()"
   ]
  },
  {
   "cell_type": "markdown",
   "id": "37221a28",
   "metadata": {},
   "source": [
    "### Plot with Decision Boundary"
   ]
  },
  {
   "cell_type": "code",
   "execution_count": 31,
   "id": "592a876d",
   "metadata": {},
   "outputs": [
    {
     "data": {
      "image/png": "[encoded data removed]",
      "text/plain": [
       "<Figure size 432x288 with 1 Axes>"
      ]
     },
     "metadata": {
      "needs_background": "light"
     },
     "output_type": "display_data"
    }
   ],
   "source": [
    "x0min, x0max = x0.min(), x0.max()\n",
    "x1min, x1max = x1.min(), x1.max()\n",
    "m = (-w1/w2)\n",
    "c = (-b/w2)\n",
    "\n",
    "xd = np.array([x0min, x0max])\n",
    "yd = m * xd + c\n",
    "\n",
    "plt.plot(xd, yd, 'k', lw=1, ls='--')\n",
    "plt.fill_between(xd, yd, x1min, color='tab:blue', alpha=0.2)\n",
    "plt.fill_between(xd, yd, x1max, color='tab:orange', alpha=0.2)\n",
    "\n",
    "plt.scatter(*X[y==0].T, s=8, alpha=0.5)\n",
    "plt.scatter(*X[y==1].T, s=8, alpha=0.5)\n",
    "plt.xlim(x0min, x0max)\n",
    "plt.ylim(x1min, x1max)\n",
    "plt.ylabel(r'$x_2$')\n",
    "plt.xlabel(r'$x_1$')\n",
    "plt.show()"
   ]
  }
 ],
 "metadata": {
  "interpreter": {
   "hash": "b2fd2b513d366d7945501ec4f3a6404a95e05f8f415fe994cecd93a2d3f5ae51"
  },
  "kernelspec": {
   "display_name": "venv",
   "language": "python",
   "name": "python3"
  },
  "language_info": {
   "codemirror_mode": {
    "name": "ipython",
    "version": 3
   },
   "file_extension": ".py",
   "mimetype": "text/x-python",
   "name": "python",
   "nbconvert_exporter": "python",
   "pygments_lexer": "ipython3",
   "version": "3.7.11"
  }
 },
 "nbformat": 4,
 "nbformat_minor": 5
}
